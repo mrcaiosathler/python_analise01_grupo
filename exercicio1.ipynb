{
 "cells": [
  {
   "cell_type": "code",
   "execution_count": 5,
   "metadata": {},
   "outputs": [],
   "source": [
    "nota1 = float(input(\"Digite a nota da primeira avaliação: \"))\n",
    "nota2 = float(input(\"Digite a nota da segunda avaliação: \"))\n",
    "optativa = input(\"Você realizou a prova optativa? S/N\")\n",
    "\n",
    "if optativa == \"S\":\n",
    "    optativa = float(input(\"Digite a nota da avaliação optativa: \"))\n",
    "if optativa == \"N\":\n",
    "    media = (nota1 + nota2)/2\n",
    "else:\n",
    "    menor = min(nota1, nota2)\n",
    "    maior = max(nota1, nota2)\n",
    "if optativa > menor:\n",
    "    media = (maior + optativa)/2\n",
    "else:\n",
    "    media = (nota1 + nota2)/2\n",
    "\n",
    "if media >= 6.0:\n",
    "    print(\"Aprovado\")\n",
    "elif media < 3.0:\n",
    "    print(\"Reprovado\")\n",
    "elif media >= 3.0 < 6.0:\n",
    "    print(\"Exame\")"
   ]
  }
 ],
 "metadata": {
  "kernelspec": {
   "display_name": "Python 3.10.5 64-bit",
   "language": "python",
   "name": "python3"
  },
  "language_info": {
   "codemirror_mode": {
    "name": "ipython",
    "version": 3
   },
   "file_extension": ".py",
   "mimetype": "text/x-python",
   "name": "python",
   "nbconvert_exporter": "python",
   "pygments_lexer": "ipython3",
   "version": "3.10.5"
  },
  "orig_nbformat": 4,
  "vscode": {
   "interpreter": {
    "hash": "369f2c481f4da34e4445cda3fffd2e751bd1c4d706f27375911949ba6bb62e1c"
   }
  }
 },
 "nbformat": 4,
 "nbformat_minor": 2
}

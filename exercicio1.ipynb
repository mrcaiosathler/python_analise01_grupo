{
 "cells": [
  
   {
   "cell_type": "markdown",
   "metadata": {},
   "source": [
    "EXERCÍCIO #1\n",
    "Escreva um programa para calcular e imprimir o número de lâmpadas necessárias para iluminar um determinado cômodo de uma residência. Dados de entrada: a potência da lâmpada utilizada (em watts), as dimensões (largura e comprimento, em metros) do cômodo. Considere que a potência necessária é de 3 watts por metro quadrado e a cada 3 m² existe um bocal para uma lâmpada.\n",
    "\n",
    "Calcular e escrever: o número de lâmpadas necessárias para iluminar um determinado cômodo de uma residência."
   ]
  },
   {
   "cell_type": "code",
   "execution_count": 9,
   "metadata": {},
   "outputs": [
    {
     "name": "stdout",
     "output_type": "stream",
     "text": [
      "Você precisará de  17.0 lâmpadas para iluminar o cômodo.\n"
     ]
    }
   ],
   "source": [
    "#Variáveis Iniciais\n",
    "LarguraComodo = float(input(\"Informe a largura do cômodo: \"))\n",
    "ComprimentoComodo = float(input(\"Informe o comprimento do cômodo: \"))\n",
    "PotenciaLampada = float(input(\"Informe a potência das lâmapadas que você escolheu: \"))\n",
    "\n",
    "#Variáveis de Cálculo\n",
    "MedidaQuarto = LarguraComodo*ComprimentoComodo\n",
    "PotNecessaria = MedidaQuarto*3\n",
    "QuantLampadas = round((PotNecessaria/PotenciaLampada), 0)\n",
    "\n",
    "print(\"Você precisará de \", QuantLampadas, \"lâmpadas para iluminar o cômodo.\")\n",
    "\n"

   ]
  },
   {
   "cell_type": "markdown",
   "metadata": {},
   "source": [
    "EXERCÍCIO #3\n",
    "Um motorista de táxi deseja calcular o rendimento de seu carro na praça. Sabendo-se que o preço do combustível é de R$ 4,87, escreva um programa para ler: a marcação do odômetro (km) no início do dia, a marcação (km) no final do dia, o número de litros  de combustível gasto e o valor total (R$) recebido dos passageiros.\n",
    "\n",
    "Calcular e escrever: a média do consumo em km/L e o lucro (líquido) do dia.\n"
   ]
  },
  {
   "cell_type": "code",
   "execution_count": 7,
   "metadata": {},
   "outputs": [
    {
     "name": "stdout",
     "output_type": "stream",
     "text": [
     ]
    }
   ],
   "source": [
    "#Variáveis Iniciais\n",
    "kminic = float(input(\"Informe a quilometragem inicial do dia de hoje:\"))\n",
    "kmfim = float(input(\"Informe a quilometragem final do dia de hoje:\"))\n",
    "combgasto = float(input(\"Informe quantos litros de combustível você consumiu no dia de hoje:\"))\n",
    "valorrecebido = float(input(\"Informe o valor recebido dos passageiros no dia de hoje:\"))\n",
    "\n",
    "#Variáveis de Cálculo\n",
    "kmdia = round((kmfim-kminic), 2)\n",
    "mediakm = (kmdia/combgasto)\n",
    "lucrodia = (round((valorrecebido - (kmdia*4.87)),2))\n",
    "\n",
    "#Resultados\n",
    "print(\"A sua média de consumo hoje foi de \", mediakm, \"km/L, enquanto seu lucro foi de R$\", lucrodia)\n",
    "\n"
   ]
  },
     {
   "cell_type": "markdown",
   "metadata": {},
   "source": [
    "Exercício 4: Escreva um programa que leia o código de origem de um \n",
    "produto e imprima na tela a região de sua procedência, conforme \n",
    "a tabela abaixo:\n",
    "Observação: caso o código não seja nenhum dos especificados, o \n",
    "produto deve ser encarado como “Importado”."
   ]
  }, 
  {
   "cell_type": "code",
   "execution_count": 7,
   "metadata": {},
   "outputs": [
    {
     "name": "stdout",
     "output_type": "stream",
     "text": [
     ]
    }
   ],
   "source": [
    "codigo = int(input(\"Digite o código de origem do produto: \"))\n",
    "\n",
    "if codigo == 1:\n",
    "    regiao = \"Sul\"\n",
    "elif codigo == 2:\n",
    "    regiao = \"Norte\"\n",
    "elif codigo == 3:\n",
    "    regiao = \"Leste\"\n",
    "elif codigo == 4: \n",
    "    regiao = \"Oeste\"\n",
    "elif codigo == 5 or codigo == 6:\n",
    "    regiao = \"Nordeste\"\n",
    "elif codigo in [7,8.9]:\n",
    "    regiao = \"Sudeste\"\n",
    "elif 10 <= codigo <= 20:\n",
    "    regiao = \"Centro-Oeste\"\n",
    "elif 21 <= codigo <=30:\n",
    "    regiao = \"Nordeste\"\n",
    "else:\n",
    "    regiao = \"Importado\"\n",
    "print(f\"A região de procedência do produto é {regiao}\")"

   ]
  }
 ],
 "metadata": {
  "kernelspec": {
   "display_name": "Python 3.10.5 64-bit",
   "language": "python",
   "name": "python3"
  },
  "language_info": {
   "codemirror_mode": {
    "name": "ipython",
    "version": 3
   },
   "file_extension": ".py",
   "mimetype": "text/x-python",
   "name": "python",
   "nbconvert_exporter": "python",
   "pygments_lexer": "ipython3",
   "version": "3.10.5"
  },
  "orig_nbformat": 4,
  "vscode": {
   "interpreter": {
    "hash": "369f2c481f4da34e4445cda3fffd2e751bd1c4d706f27375911949ba6bb62e1c"
   }
  }
 },
 "nbformat": 4,
 "nbformat_minor": 2
}

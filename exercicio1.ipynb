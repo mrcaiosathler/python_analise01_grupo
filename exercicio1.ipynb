{
 "cells": [
  {
   "cell_type": "markdown",
   "metadata": {},
   "source": [
    "EXERCÍCIO #3\n",
    "Um motorista de táxi deseja calcular o rendimento de seu carro na praça. Sabendo-se que o preço do combustível é de R$ 4,87, escreva um programa para ler: a marcação do odômetro (km) no início do dia, a marcação (km) no final do dia, o número de litros  de combustível gasto e o valor total (R$) recebido dos passageiros.\n",
    "\n",
    "Calcular e escrever: a média do consumo em km/L e o lucro (líquido) do dia.\n"
   ]
  },
  {
   "cell_type": "code",
   "execution_count": null,
   "metadata": {},
   "outputs": [],
   "source": [
    "#Variáveis Iniciais\n",
    "kminic = float(input(\"Informe a quilometragem inicial do dia de hoje:\"))\n",
    "kmfim = float(input(\"Informe a quilometragem final do dia de hoje:\"))\n",
    "combgasto = float(input(\"Informe quantos litros de combustível você consumiu no dia de hoje:\"))\n",
    "valorrecebido = float(input(\"Informe o valor recebido dos passageiros no dia de hoje:\"))\n",
    "\n",
    "#Variáveis de Cálculo\n",
    "kmdia = round((kmfim-kminic), 2)\n",
    "mediakm = (kmdia/combgasto)\n",
    "lucrodia = (round((valorrecebido - (kmdia*4.87)),2))\n",
    "\n",
    "#Resultados\n",
    "print(\"A sua média de consumo hoje foi de \", mediakm, \"km/L, enquanto seu lucro foi de R$\", lucrodia)\n",
    "\n"
   ]
  },
  {
   "cell_type": "markdown",
   "metadata": {},
   "source": [
    "EXERCÍCIO #1\n",
    "Escreva um programa para calcular e imprimir o número de lâmpadas necessárias para iluminar um determinado cômodo de uma residência. Dados de entrada: a potência da lâmpada utilizada (em watts), as dimensões (largura e comprimento, em metros) do cômodo. Considere que a potência necessária é de 3 watts por metro quadrado e a cada 3 m² existe um bocal para uma lâmpada.\n",
    "\n",
    "Calcular e escrever: o número de lâmpadas necessárias para iluminar um determinado cômodo de uma residência."
   ]
  },
  {
   "cell_type": "code",
   "execution_count": null,
   "metadata": {},
   "outputs": [],
   "source": [
    "#Variáveis Iniciais\n",
    "LarguraComodo = float(input(\"Informe a largura do cômodo: \"))\n",
    "ComprimentoComodo = float(input(\"Informe o comprimento do cômodo: \"))\n",
    "PotenciaLampada = float(input(\"Informe a potência das lâmapadas que você escolheu: \"))\n",
    "\n",
    "#Variáveis de Cálculo\n",
    "MedidaQuarto = LarguraComodo*ComprimentoComodo\n",
    "PotNecessaria = MedidaQuarto*3\n",
    "QuantLampadas = round((PotNecessaria/PotenciaLampada), 0)\n",
    "\n",
    "print(\"Você precisará de \", QuantLampadas, \"lâmpadas para iluminar o cômodo.\")\n",
    "\n"
   ]
  }
 ],
 "metadata": {
  "kernelspec": {
   "display_name": "Python 3.10.5 64-bit",
   "language": "python",
   "name": "python3"
  },
  "language_info": {
   "codemirror_mode": {
    "name": "ipython",
    "version": 3
   },
   "file_extension": ".py",
   "mimetype": "text/x-python",
   "name": "python",
   "nbconvert_exporter": "python",
   "pygments_lexer": "ipython3",
   "version": "3.10.5"
  },
  "orig_nbformat": 4,
  "vscode": {
   "interpreter": {
    "hash": "369f2c481f4da34e4445cda3fffd2e751bd1c4d706f27375911949ba6bb62e1c"
   }
  }
 },
 "nbformat": 4,
 "nbformat_minor": 2
}

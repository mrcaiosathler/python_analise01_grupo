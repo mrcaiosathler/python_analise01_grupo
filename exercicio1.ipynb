{
 "cells": [
  {
   "cell_type": "markdown",
   "metadata": {},
   "source": [
    "Exercício 4: Escreva um programa que leia o código de origem de um \n",
    "produto e imprima na tela a região de sua procedência, conforme \n",
    "a tabela abaixo:\n",
    "Observação: caso o código não seja nenhum dos especificados, o \n",
    "produto deve ser encarado como “Importado”."
   ]
  },
  {
   "cell_type": "code",
   "execution_count": 7,
   "metadata": {},
   "outputs": [
    {
     "name": "stdout",
     "output_type": "stream",
     "text": [
      "A região de procedência do produto é Importado\n"
     ]
    }
   ],
   "source": [
    "codigo = int(input(\"Digite o código de origem do produto: \"))\n",
    "\n",
    "if codigo == 1:\n",
    "    regiao = \"Sul\"\n",
    "elif codigo == 2:\n",
    "    regiao = \"Norte\"\n",
    "elif codigo == 3:\n",
    "    regiao = \"Leste\"\n",
    "elif codigo == 4: \n",
    "    regiao = \"Oeste\"\n",
    "elif codigo == 5 or codigo == 6:\n",
    "    regiao = \"Nordeste\"\n",
    "elif codigo in [7,8.9]:\n",
    "    regiao = \"Sudeste\"\n",
    "elif 10 <= codigo <= 20:\n",
    "    regiao = \"Centro-Oeste\"\n",
    "elif 21 <= codigo <=30:\n",
    "    regiao = \"Nordeste\"\n",
    "else:\n",
    "    regiao = \"Importado\"\n",
    "print(f\"A região de procedência do produto é {regiao}\")"
   ]
  }
 ],
 "metadata": {
  "kernelspec": {
   "display_name": "Python 3.10.5 64-bit",
   "language": "python",
   "name": "python3"
  },
  "language_info": {
   "codemirror_mode": {
    "name": "ipython",
    "version": 3
   },
   "file_extension": ".py",
   "mimetype": "text/x-python",
   "name": "python",
   "nbconvert_exporter": "python",
   "pygments_lexer": "ipython3",
   "version": "3.10.5"
  },
  "orig_nbformat": 4,
  "vscode": {
   "interpreter": {
    "hash": "369f2c481f4da34e4445cda3fffd2e751bd1c4d706f27375911949ba6bb62e1c"
   }
  }
 },
 "nbformat": 4,
 "nbformat_minor": 2
}

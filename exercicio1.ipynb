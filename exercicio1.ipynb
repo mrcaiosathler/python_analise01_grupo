{
 "cells": [
  {
   "cell_type": "code",
   "execution_count": 3,
   "metadata": {},
   "outputs": [
    {
     "name": "stdout",
     "output_type": "stream",
     "text": [
      "Média do semestre: {media:.1}\n",
      "Situação: {situacao}\n"
     ]
    }
   ],
   "source": [
    "nota1 = float(input(\"Digite a nota da primeira avaliação: \"))\n",
    "nota2 = float(input(\"Digite a nota da segunda avaliação: \"))\n",
    "nota_optativa = float(input(\"Digite a nota da avaliação optativa (-1 se não fez): \"))\n",
    "\n",
    "if nota_optativa != -1:\n",
    "    if nota1 < nota2:\n",
    "        nota1 = nota_optativa\n",
    "    else:\n",
    "        nota2 = nota_optativa\n",
    "\n",
    "media = (nota1 + nota2) / 2\n",
    "\n",
    "if media >= 6.0:\n",
    "    situacao = \"Aprovado\"\n",
    "elif media < 3.0:\n",
    "    situacao = \"Reprovado\"\n",
    "else:\n",
    "    situacao = \"Exame\"\n",
    "\n",
    "print(f\"Média do semestre: {media:.1f}\")\n",
    "print(f\"Situação: {situacao}\")\n"
   ]
  }
 ],
 "metadata": {
  "kernelspec": {
   "display_name": "Python 3.10.5 64-bit",
   "language": "python",
   "name": "python3"
  },
  "language_info": {
   "codemirror_mode": {
    "name": "ipython",
    "version": 3
   },
   "file_extension": ".py",
   "mimetype": "text/x-python",
   "name": "python",
   "nbconvert_exporter": "python",
   "pygments_lexer": "ipython3",
   "version": "3.10.5"
  },
  "orig_nbformat": 4,
  "vscode": {
   "interpreter": {
    "hash": "369f2c481f4da34e4445cda3fffd2e751bd1c4d706f27375911949ba6bb62e1c"
   }
  }
 },
 "nbformat": 4,
 "nbformat_minor": 2
}

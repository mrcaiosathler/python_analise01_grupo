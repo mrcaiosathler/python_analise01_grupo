{
 "cells": [
  {
   "cell_type": "markdown",
   "metadata": {},
   "source": [
    "Exercício 2 -Escreva um programa para ler as dimensões de uma cozinha \n",
    "retangular (comprimento, largura e altura), calcular e escrever a \n",
    "quantidade de caixas de azulejos para se colocar em todas as \n",
    "suas paredes (considere que não será descontada a área \n",
    "ocupada por portas e janelas).\n",
    "Cada caixa de azulejos possui 1,5 m²"
   ]
  },
  {
   "cell_type": "code",
   "execution_count": 2,
   "metadata": {},
   "outputs": [
    {
     "name": "stdout",
     "output_type": "stream",
     "text": [
      "Total de caixas: 80.0\n"
     ]
    }
   ],
   "source": [
    "#Varivél inicial\n",
    "largura = float(input('Informe a largura em metros:'))\n",
    "comprimento = float(input('Informe o comprimento em metros:'))\n",
    "altura = float(input('Informe a altura em metros:'))\n",
    "\n",
    "#Variavél de cálculo\n",
    "l_x_c_m2 = largura * comprimento\n",
    "l_x_a_m2 = largura * altura\n",
    "m2_t = l_x_a_m2 + l_x_c_m2\n",
    "totalcaixas = round((m2_t / 1.5), 2)\n",
    "print('Total de caixas:', totalcaixas)\n",
    "\n"
   ]
  }
 ],
 "metadata": {
  "kernelspec": {
   "display_name": "Python 3.10.5 64-bit",
   "language": "python",
   "name": "python3"
  },
  "language_info": {
   "codemirror_mode": {
    "name": "ipython",
    "version": 3
   },
   "file_extension": ".py",
   "mimetype": "text/x-python",
   "name": "python",
   "nbconvert_exporter": "python",
   "pygments_lexer": "ipython3",
   "version": "3.10.5"
  },
  "orig_nbformat": 4,
  "vscode": {
   "interpreter": {
    "hash": "369f2c481f4da34e4445cda3fffd2e751bd1c4d706f27375911949ba6bb62e1c"
   }
  }
 },
 "nbformat": 4,
 "nbformat_minor": 2
}
